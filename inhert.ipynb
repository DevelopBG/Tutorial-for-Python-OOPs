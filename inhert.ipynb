{
 "cells": [
  {
   "cell_type": "markdown",
   "id": "df41c244",
   "metadata": {},
   "source": [
    "* if the child class does not have any own constructor, then it will inheret constructors of the parent class\n",
    "* that is why Dog class inheret all the attributes of aminal class and we need to pass the argument when calling the child class, Dog."
   ]
  },
  {
   "cell_type": "code",
   "execution_count": 15,
   "id": "5e9a9168",
   "metadata": {},
   "outputs": [],
   "source": [
    "class Animal:\n",
    "    def __init__(self,name):\n",
    "        self.name = name\n",
    "    def speak(self):\n",
    "        print(f'{self.name} makes a sound')\n",
    "\n",
    "class Dog(Animal):\n",
    "    def speak1(self): # if the method name is same, then it will override the parent class method\n",
    "        print(f'{self.name} barks')"
   ]
  },
  {
   "cell_type": "code",
   "execution_count": 16,
   "id": "b4721bdf",
   "metadata": {},
   "outputs": [
    {
     "name": "stdout",
     "output_type": "stream",
     "text": [
      "generic animal makes a sound\n",
      "Buddy makes a sound\n"
     ]
    }
   ],
   "source": [
    "animal =  Animal(\"generic animal\")\n",
    "animal.speak()\n",
    "\n",
    "dog = Dog(\"Buddy\")\n",
    "dog.speak()"
   ]
  },
  {
   "cell_type": "markdown",
   "id": "74dd93c5",
   "metadata": {},
   "source": [
    "* now as we define constructors for the child class then all the attributes of the parent class gets voided. This is called constructor overloading"
   ]
  },
  {
   "cell_type": "code",
   "execution_count": 17,
   "id": "4485e625",
   "metadata": {},
   "outputs": [],
   "source": [
    "class Dog(Animal):\n",
    "    def __init__(self):\n",
    "        self.behaviour = \"friendly\"\n",
    "    def speak1(self): # if the method name is same, then it will override the parent class method\n",
    "        print(f'Buddy barks and {self.behaviour}.')\n",
    "        print(f'{self.name} barks {self.behaviour}.')\n",
    "        "
   ]
  },
  {
   "cell_type": "code",
   "execution_count": 18,
   "id": "eec2af5d",
   "metadata": {},
   "outputs": [
    {
     "name": "stdout",
     "output_type": "stream",
     "text": [
      "Buddy barks and friendly.\n"
     ]
    },
    {
     "ename": "AttributeError",
     "evalue": "'Dog' object has no attribute 'name'",
     "output_type": "error",
     "traceback": [
      "\u001b[1;31m---------------------------------------------------------------------------\u001b[0m",
      "\u001b[1;31mAttributeError\u001b[0m                            Traceback (most recent call last)",
      "Cell \u001b[1;32mIn[18], line 2\u001b[0m\n\u001b[0;32m      1\u001b[0m dog \u001b[38;5;241m=\u001b[39m Dog()\n\u001b[1;32m----> 2\u001b[0m dog\u001b[38;5;241m.\u001b[39mspeak1()\n",
      "Cell \u001b[1;32mIn[17], line 6\u001b[0m, in \u001b[0;36mDog.speak1\u001b[1;34m(self)\u001b[0m\n\u001b[0;32m      4\u001b[0m \u001b[38;5;28;01mdef\u001b[39;00m \u001b[38;5;21mspeak1\u001b[39m(\u001b[38;5;28mself\u001b[39m): \u001b[38;5;66;03m# if the method name is same, then it will override the parent class method\u001b[39;00m\n\u001b[0;32m      5\u001b[0m     \u001b[38;5;28mprint\u001b[39m(\u001b[38;5;124mf\u001b[39m\u001b[38;5;124m'\u001b[39m\u001b[38;5;124mBuddy barks and \u001b[39m\u001b[38;5;132;01m{\u001b[39;00m\u001b[38;5;28mself\u001b[39m\u001b[38;5;241m.\u001b[39mbehaviour\u001b[38;5;132;01m}\u001b[39;00m\u001b[38;5;124m.\u001b[39m\u001b[38;5;124m'\u001b[39m)\n\u001b[1;32m----> 6\u001b[0m     \u001b[38;5;28mprint\u001b[39m(\u001b[38;5;124mf\u001b[39m\u001b[38;5;124m'\u001b[39m\u001b[38;5;132;01m{\u001b[39;00m\u001b[38;5;28mself\u001b[39m\u001b[38;5;241m.\u001b[39mname\u001b[38;5;132;01m}\u001b[39;00m\u001b[38;5;124m barks \u001b[39m\u001b[38;5;132;01m{\u001b[39;00m\u001b[38;5;28mself\u001b[39m\u001b[38;5;241m.\u001b[39mbehaviour\u001b[38;5;132;01m}\u001b[39;00m\u001b[38;5;124m.\u001b[39m\u001b[38;5;124m'\u001b[39m)\n",
      "\u001b[1;31mAttributeError\u001b[0m: 'Dog' object has no attribute 'name'"
     ]
    }
   ],
   "source": [
    "dog = Dog()\n",
    "dog.speak1()"
   ]
  },
  {
   "cell_type": "markdown",
   "id": "1d6e15c5",
   "metadata": {},
   "source": [
    "* But using super we can again inheret constructor and the method of the parent. We need to pass the parent attribute as well as defined below. However, if the parent does not have  constructor variable then super().__init() only.  Note: super cannot access a particular single attribute explicitely. It alwasy draws the method completely, whether it is constructor or any other method. "
   ]
  },
  {
   "cell_type": "code",
   "execution_count": 23,
   "id": "41f926b6",
   "metadata": {},
   "outputs": [],
   "source": [
    "class Dog(Animal):\n",
    "    def __init__(self, name,breed):\n",
    "        super().__init__(name)\n",
    "        self.breed = breed\n",
    "    def speak2(self):\n",
    "        super().speak() #call the base class method\n",
    "        print(f'{self.name} barks, It is a {self.breed}')"
   ]
  },
  {
   "cell_type": "code",
   "execution_count": 25,
   "id": "5d451443",
   "metadata": {},
   "outputs": [
    {
     "name": "stdout",
     "output_type": "stream",
     "text": [
      "buddy makes a sound\n",
      "buddy barks, It is a golden retriever\n"
     ]
    }
   ],
   "source": [
    "dog = Dog(\"buddy\",\"golden retriever\")\n",
    "dog.speak2()"
   ]
  },
  {
   "cell_type": "code",
   "execution_count": null,
   "id": "5aa2877f",
   "metadata": {},
   "outputs": [
    {
     "name": "stdout",
     "output_type": "stream",
     "text": [
      "buddy makes a sound\n",
      "buddy barks, It is a golden retriever\n"
     ]
    }
   ],
   "source": [
    "# here parent class does not have any constructor variable. \n",
    "class Animal:\n",
    "    def __init__(self):\n",
    "        self.name = \"buddy\"\n",
    "    def speak(self):\n",
    "        print(f'{self.name} makes a sound')\n",
    "\n",
    "class Dog(Animal):\n",
    "    def __init__(self,breed):\n",
    "        super().__init__()\n",
    "        self.breed = breed\n",
    "    def speak2(self):\n",
    "        super().speak() #call the base class method\n",
    "        print(f'{self.name} barks, It is a {self.breed}')\n",
    "\n",
    "dog = Dog(\"golden retriever\")\n",
    "dog.speak2()"
   ]
  },
  {
   "cell_type": "markdown",
   "id": "d1be9945",
   "metadata": {},
   "source": [
    "** Different types of inheretance\n"
   ]
  },
  {
   "cell_type": "code",
   "execution_count": null,
   "id": "dfae0f66",
   "metadata": {},
   "outputs": [],
   "source": []
  },
  {
   "cell_type": "code",
   "execution_count": null,
   "id": "e3a24df3",
   "metadata": {},
   "outputs": [],
   "source": []
  },
  {
   "cell_type": "code",
   "execution_count": null,
   "id": "cce6785c",
   "metadata": {},
   "outputs": [],
   "source": []
  }
 ],
 "metadata": {
  "kernelspec": {
   "display_name": "base",
   "language": "python",
   "name": "python3"
  },
  "language_info": {
   "codemirror_mode": {
    "name": "ipython",
    "version": 3
   },
   "file_extension": ".py",
   "mimetype": "text/x-python",
   "name": "python",
   "nbconvert_exporter": "python",
   "pygments_lexer": "ipython3",
   "version": "3.12.7"
  }
 },
 "nbformat": 4,
 "nbformat_minor": 5
}
