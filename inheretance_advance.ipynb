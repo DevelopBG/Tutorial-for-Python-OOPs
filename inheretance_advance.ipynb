{
 "cells": [
  {
   "cell_type": "markdown",
   "id": "1883f928",
   "metadata": {},
   "source": [
    "** Different types of inheretance\n"
   ]
  },
  {
   "cell_type": "markdown",
   "id": "8a945fbc",
   "metadata": {},
   "source": [
    "* single or basic inheretance"
   ]
  },
  {
   "cell_type": "code",
   "execution_count": 3,
   "id": "d98c48bc",
   "metadata": {},
   "outputs": [
    {
     "name": "stdout",
     "output_type": "stream",
     "text": [
      "alice is palying\n",
      "Hello, my name is alice\n"
     ]
    }
   ],
   "source": [
    "class Parent:\n",
    "    def __init__(self,name):\n",
    "        self.name = name\n",
    "    def greet(self):\n",
    "        print(f\"Hello, my name is {self.name}\")\n",
    "\n",
    "class Child(Parent):\n",
    "    def play(self):\n",
    "        print(f'{self.name} is palying')\n",
    "\n",
    "child = Child('alice')\n",
    "child.play()\n",
    "child.greet()\n"
   ]
  },
  {
   "cell_type": "markdown",
   "id": "55347a59",
   "metadata": {},
   "source": [
    "* Multilevel inheretance"
   ]
  },
  {
   "cell_type": "code",
   "execution_count": null,
   "id": "f1e79204",
   "metadata": {},
   "outputs": [
    {
     "name": "stdout",
     "output_type": "stream",
     "text": [
      "Chirlie is palying\n",
      "Hello, my name is Chirlie\n",
      "Chirlie tells a story\n"
     ]
    }
   ],
   "source": [
    "class Grandparents:\n",
    "    def __init__(self,name):\n",
    "        self.name = name\n",
    "    def tell_story(self):\n",
    "        print(f\"{self.name} tells a story\")\n",
    "\n",
    "class Parent(Grandparents):\n",
    "    def greet(self):\n",
    "        print(f\"Hello, my name is {self.name}\")\n",
    "\n",
    "class Child(Parent):\n",
    "    def play(self):\n",
    "        print(f'{self.name} is palying')\n",
    "\n",
    "child = Child(\"Chirlie\")\n",
    "child.play()\n",
    "child.greet()\n",
    "child.tell_story()"
   ]
  },
  {
   "cell_type": "markdown",
   "id": "4fa355ef",
   "metadata": {},
   "source": [
    "* Hierarchical inheretance. Here we have one parent class and multiple child class"
   ]
  },
  {
   "cell_type": "code",
   "execution_count": 5,
   "id": "ed65eb6f",
   "metadata": {},
   "outputs": [
    {
     "name": "stdout",
     "output_type": "stream",
     "text": [
      "Hello, my name is Alex\n",
      "Alex is palying\n",
      "Hello, my name is Ann\n",
      "Ann is studying\n"
     ]
    }
   ],
   "source": [
    "class Parent:\n",
    "    def __init__(self,name):\n",
    "        self.name = name\n",
    "    def greet(self):\n",
    "        print(f\"Hello, my name is {self.name}\")\n",
    "\n",
    "class Child1(Parent):\n",
    "    def play(self):\n",
    "        print(f'{self.name} is palying')\n",
    "\n",
    "class Child2(Parent):\n",
    "    def study(self):\n",
    "        print(f'{self.name} is studying')\n",
    "\n",
    "child1 = Child1(\"Alex\")\n",
    "child2 = Child2(\"Ann\")\n",
    "\n",
    "child1.greet()\n",
    "child1.play()\n",
    "child2.greet()\n",
    "child2.study()"
   ]
  },
  {
   "cell_type": "markdown",
   "id": "4d309afb",
   "metadata": {},
   "source": [
    "* Multiple inheretance (diamond problem)\n",
    "\n",
    "![multple inheretance](./img.png)\n",
    "\n",
    "if the same method exists in more than two class but have the different action then which one going to execute?\n",
    "\n",
    "Note: why A.greet() is called only once, even though both B and C call super().greet()?? => The reason \"Hello from A, frank\" is printed only once is because Python uses the Method Resolution Order (MRO) to ensure that each method in the hierarchy is called only once — even if multiple paths lead to it. This behavior is by design and is enabled by super() + MRO working together."
   ]
  },
  {
   "cell_type": "code",
   "execution_count": 7,
   "id": "0312fe97",
   "metadata": {},
   "outputs": [
    {
     "name": "stdout",
     "output_type": "stream",
     "text": [
      "Hello form D,frank\n",
      "Hello from B,frank\n",
      "Hello from C,frank\n",
      "Hello from A, frank\n"
     ]
    }
   ],
   "source": [
    "class A:\n",
    "    def __init__(self,name):\n",
    "        self.name = name\n",
    "    def greet(self):\n",
    "        print(f'Hello from A, {self.name}')\n",
    "\n",
    "class B(A):\n",
    "    def greet(self):\n",
    "        print(f\"Hello from B,{self.name}\")\n",
    "        super().greet()\n",
    "\n",
    "class C(A):\n",
    "    def greet(self):\n",
    "        print(f\"Hello from C,{self.name}\")\n",
    "        super().greet()\n",
    "\n",
    "class D(B,C):\n",
    "    def greet(self):\n",
    "        print(f\"Hello form D,{self.name}\")\n",
    "        super().greet()\n",
    "\n",
    "\n",
    "d = D(\"frank\") # we have only one constructor with one attribute, so only one attribute to be passed\n",
    "d.greet()"
   ]
  },
  {
   "cell_type": "markdown",
   "id": "3ec9ae27",
   "metadata": {},
   "source": [
    "* Hybrid inheretance"
   ]
  },
  {
   "cell_type": "code",
   "execution_count": 8,
   "id": "ac0d101d",
   "metadata": {},
   "outputs": [
    {
     "name": "stdout",
     "output_type": "stream",
     "text": [
      "Bruce makes a sound.\n",
      "Bruce is feeding milk.\n",
      "Bruce is flying.\n",
      "Bruce is nocturnal.\n"
     ]
    }
   ],
   "source": [
    "\n",
    "class Animal:\n",
    "    def __init__(self, name):\n",
    "        self.name = name\n",
    "\n",
    "    def sound(self):\n",
    "        print(f\"{self.name} makes a sound.\")\n",
    "\n",
    "# Intermediate class 1 (Hierarchical)\n",
    "class Mammal(Animal):\n",
    "    def feed(self):\n",
    "        print(f\"{self.name} is feeding milk.\")\n",
    "\n",
    "# Intermediate class 2 (Multiple)\n",
    "class Bird(Animal):\n",
    "    def fly(self):\n",
    "        print(f\"{self.name} is flying.\")\n",
    "\n",
    "# Derived class (Multiple Inheritance)\n",
    "class Bat(Mammal, Bird):\n",
    "    def __init__(self, name):\n",
    "        Mammal.__init__(self, name)  # Explicitly calling the constructor\n",
    "\n",
    "    def nocturnal(self):\n",
    "        print(f\"{self.name} is nocturnal.\")\n",
    "\n",
    "# Create an instance of Bat\n",
    "bat = Bat(\"Bruce\")\n",
    "bat.sound()     # Output: Bruce makes a sound.\n",
    "bat.feed()      # Output: Bruce is feeding milk.\n",
    "bat.fly()       # Output: Bruce is flying.\n",
    "bat.nocturnal() # Output: Bruce is nocturnal."
   ]
  }
 ],
 "metadata": {
  "kernelspec": {
   "display_name": "base",
   "language": "python",
   "name": "python3"
  },
  "language_info": {
   "codemirror_mode": {
    "name": "ipython",
    "version": 3
   },
   "file_extension": ".py",
   "mimetype": "text/x-python",
   "name": "python",
   "nbconvert_exporter": "python",
   "pygments_lexer": "ipython3",
   "version": "3.12.7"
  }
 },
 "nbformat": 4,
 "nbformat_minor": 5
}
